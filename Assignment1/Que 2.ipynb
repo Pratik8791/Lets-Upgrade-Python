{
 "cells": [
  {
   "cell_type": "code",
   "execution_count": null,
   "metadata": {},
   "outputs": [
    {
     "name": "stdout",
     "output_type": "stream",
     "text": [
      "Enter correct username and password combo to continue\n",
      "Enter username: India123\n",
      "Enter password: India123\n",
      "Access denied. Try again.\n"
     ]
    }
   ],
   "source": [
    "print('Enter correct username and password combo to continue')\n",
    "count=0\n",
    "while count<4:\n",
    "    username=input('Enter username: ')\n",
    "    password=input('Enter password: ')\n",
    "    if username=='India'and password=='India123' :\n",
    "        print('Access granted')\n",
    "        count=5\n",
    "    else:\n",
    "        print('Access denied. Try again.')\n",
    "        count+=1"
   ]
  },
  {
   "cell_type": "code",
   "execution_count": null,
   "metadata": {},
   "outputs": [],
   "source": []
  },
  {
   "cell_type": "code",
   "execution_count": null,
   "metadata": {},
   "outputs": [],
   "source": []
  }
 ],
 "metadata": {
  "kernelspec": {
   "display_name": "Python 3",
   "language": "python",
   "name": "python3"
  },
  "language_info": {
   "codemirror_mode": {
    "name": "ipython",
    "version": 3
   },
   "file_extension": ".py",
   "mimetype": "text/x-python",
   "name": "python",
   "nbconvert_exporter": "python",
   "pygments_lexer": "ipython3",
   "version": "3.6.11"
  }
 },
 "nbformat": 4,
 "nbformat_minor": 4
}
