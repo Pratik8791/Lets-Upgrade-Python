{
 "cells": [
  {
   "cell_type": "markdown",
   "metadata": {},
   "source": [
    "# Cryptography APP"
   ]
  },
  {
   "cell_type": "code",
   "execution_count": 25,
   "metadata": {},
   "outputs": [
    {
     "name": "stdout",
     "output_type": "stream",
     "text": [
      "Working 240018191f473e0410421f30041202061604\n",
      "Working Hello Let'sUpgrade\n"
     ]
    }
   ],
   "source": [
    "import onetimepad\n",
    "\n",
    "from tkinter import *\n",
    "\n",
    "root = Tk()\n",
    "root.title(\"Cryptography APP\")\n",
    "\n",
    "def encryptMessage():\n",
    "    a = var.get()\n",
    "    ct = onetimepad.encrypt(a,\"letupgrade\")\n",
    "    print(\"Working\",ct) \n",
    "    e2.delete(0,END)\n",
    "    e2.insert(END,ct)\n",
    "    \n",
    "def dycrptMessage():\n",
    "    a = var2.get()\n",
    "    ct = onetimepad.decrypt(a,\"letupgrade\")\n",
    "    print(\"Working\",ct) \n",
    "    e4.delete(0,END)\n",
    "    e4.insert(END,ct)\n",
    "    \n",
    "l1 = Label(root,text=\"Normal Text\")\n",
    "l1.grid(row=0,column=0)\n",
    "\n",
    "var= StringVar()\n",
    "e1 = Entry(root,textvariable=var)\n",
    "e1.grid(row=0,column=1)\n",
    "\n",
    "l2 = Label(root,text=\"Encrypted Text\")\n",
    "l2.grid(row=1,column=0)\n",
    "\n",
    "e2 = Entry(root)\n",
    "e2.grid(row=1,column=1)\n",
    "\n",
    "b1 = Button(root,text=\"Encryption\",bg=\"cyan\",command=encryptMessage)\n",
    "b1.grid(row=2,column=1)\n",
    "\n",
    "l3 = Label(root,text=\"Encrypted Text\")\n",
    "l3.grid(row=0,column=2)\n",
    "\n",
    "var2= StringVar()\n",
    "e3 = Entry(root,textvariable=var2)\n",
    "e3.grid(row=0,column=3)\n",
    "\n",
    "l4 = Label(root,text=\"Decrypted Text\")\n",
    "l4.grid(row=1,column=2)\n",
    "\n",
    "e4 = Entry(root)\n",
    "e4.grid(row=1,column=3)\n",
    "\n",
    "b2 = Button(root,text=\"Decryption\",bg=\"cyan\",command=dycrptMessage)\n",
    "b2.grid(row=2,column=3)\n",
    "\n",
    "root.mainloop()"
   ]
  },
  {
   "cell_type": "code",
   "execution_count": null,
   "metadata": {},
   "outputs": [],
   "source": []
  }
 ],
 "metadata": {
  "kernelspec": {
   "display_name": "Python 3",
   "language": "python",
   "name": "python3"
  },
  "language_info": {
   "codemirror_mode": {
    "name": "ipython",
    "version": 3
   },
   "file_extension": ".py",
   "mimetype": "text/x-python",
   "name": "python",
   "nbconvert_exporter": "python",
   "pygments_lexer": "ipython3",
   "version": "3.8.5"
  }
 },
 "nbformat": 4,
 "nbformat_minor": 4
}
