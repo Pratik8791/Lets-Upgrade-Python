{
 "cells": [
  {
   "cell_type": "markdown",
   "metadata": {},
   "source": [
    "# Q1 Remove duplicates"
   ]
  },
  {
   "cell_type": "code",
   "execution_count": 1,
   "metadata": {},
   "outputs": [
    {
     "name": "stdout",
     "output_type": "stream",
     "text": [
      "[32, 3, 4, 5, 6, 7, 12, 78]\n"
     ]
    }
   ],
   "source": [
    "l1 = [32,5,3,4,5,6,7,12,78,7]\n",
    "print(list(set(l1)))"
   ]
  },
  {
   "cell_type": "markdown",
   "metadata": {},
   "source": [
    "# Q2 Difference between two lists"
   ]
  },
  {
   "cell_type": "code",
   "execution_count": 2,
   "metadata": {},
   "outputs": [
    {
     "name": "stdout",
     "output_type": "stream",
     "text": [
      "[0, 1, 8, 2, 4, 7]\n"
     ]
    }
   ],
   "source": [
    "d1 = [1,3,5,6,8,0]\n",
    "d2 = [2,3,4,7,6,5]\n",
    "diff1 = list(set(d1) - set(d2))\n",
    "diff2 = list(set(d2) - set(d1))\n",
    "total = diff1 + diff2\n",
    "print(total)"
   ]
  },
  {
   "cell_type": "markdown",
   "metadata": {},
   "source": [
    "# Q3 Frequency of elements"
   ]
  },
  {
   "cell_type": "code",
   "execution_count": 3,
   "metadata": {},
   "outputs": [
    {
     "name": "stdout",
     "output_type": "stream",
     "text": [
      "{1: 4, 3: 3, 5: 1, 6: 1, 7: 2}\n"
     ]
    }
   ],
   "source": [
    "a1 = [1,1,1,1,3,5,6,7,7,3,3]\n",
    "d1 = {x:a1.count(x) for x in a1}\n",
    "print(d1)"
   ]
  },
  {
   "cell_type": "markdown",
   "metadata": {},
   "source": [
    "# Q4 Similarity between two list"
   ]
  },
  {
   "cell_type": "code",
   "execution_count": 4,
   "metadata": {},
   "outputs": [
    {
     "name": "stdout",
     "output_type": "stream",
     "text": [
      "color1-color2 {'white', 'red', 'orange'}\n",
      "color2-color1 {'yellow', 'black'}\n"
     ]
    }
   ],
   "source": [
    "col1 = [\"red\",\"orange\",\"green\",\"blue\",\"white\"]\n",
    "col2 = [\"black\",\"yellow\",\"green\",\"blue\"]\n",
    "color1_color2 = set(col1) - set(col2)\n",
    "color2_color1 = set(col2) - set(col1)\n",
    "print(\"color1-color2\",color1_color2)\n",
    "print(\"color2-color1\",color2_color1)"
   ]
  },
  {
   "cell_type": "markdown",
   "metadata": {},
   "source": [
    "# Q5 Length of longest one"
   ]
  },
  {
   "cell_type": "code",
   "execution_count": 14,
   "metadata": {},
   "outputs": [
    {
     "name": "stdout",
     "output_type": "stream",
     "text": [
      "Please input a List of words to evaluate: php java python\n",
      "The longest word is python\n",
      "with lenght 6\n"
     ]
    }
   ],
   "source": [
    "text = input(\"Please input a List of words to evaluate: \")\n",
    "longest = 0\n",
    "\n",
    "for words in text.split():\n",
    "           if len(words) > longest:\n",
    "                  longest = len(words)\n",
    "print (\"The longest word is\",words)\n",
    "print (\"with lenght\",longest)"
   ]
  },
  {
   "cell_type": "markdown",
   "metadata": {},
   "source": [
    "# Q6  count the occurrences of each word"
   ]
  },
  {
   "cell_type": "code",
   "execution_count": 15,
   "metadata": {},
   "outputs": [
    {
     "name": "stdout",
     "output_type": "stream",
     "text": [
      "{'python': 1, 'is': 2, 'programming': 2, 'language': 2, 'It': 1, 'easy': 1}\n"
     ]
    }
   ],
   "source": [
    "def word_count(str):\n",
    "    counts = dict()\n",
    "    words = str.split()\n",
    "    for word in words:\n",
    "        if word in counts:\n",
    "            counts[word] += 1\n",
    "        else:\n",
    "            counts[word] = 1\n",
    "    return counts\n",
    "print( word_count('python is programming language It is easy programming language'))"
   ]
  },
  {
   "cell_type": "markdown",
   "metadata": {},
   "source": [
    "# Q7  count and display the vowels"
   ]
  },
  {
   "cell_type": "code",
   "execution_count": 16,
   "metadata": {},
   "outputs": [
    {
     "name": "stdout",
     "output_type": "stream",
     "text": [
      "Given String:  Let'sUpgrade\n",
      "The vlowels present in the string:  ['e', 'U', 'a', 'e']\n"
     ]
    }
   ],
   "source": [
    "s = \"Let'sUpgrade\"\n",
    "print(\"Given String: \",s)\n",
    "vowels = \"AaEeIiOoUu\"\n",
    "result = ([each for each in s if each in vowels])\n",
    "print(\"The vlowels present in the string: \",result)"
   ]
  },
  {
   "cell_type": "markdown",
   "metadata": {},
   "source": [
    "# Q8 Print a dictionary in the form (x, x*x)"
   ]
  },
  {
   "cell_type": "code",
   "execution_count": 17,
   "metadata": {},
   "outputs": [
    {
     "name": "stdout",
     "output_type": "stream",
     "text": [
      "Enter number : 5\n",
      "{1: 1, 2: 4, 3: 9, 4: 16, 5: 25}\n"
     ]
    }
   ],
   "source": [
    "n = int(input(\"Enter number : \"))\n",
    "d = dict()\n",
    "for x in range(1,1+n):\n",
    "    d[x] = x*x\n",
    "print(d)"
   ]
  },
  {
   "cell_type": "markdown",
   "metadata": {},
   "source": [
    "# Q9 combine two dictionary"
   ]
  },
  {
   "cell_type": "code",
   "execution_count": 18,
   "metadata": {},
   "outputs": [
    {
     "name": "stdout",
     "output_type": "stream",
     "text": [
      "Counter :  {'c': 300, 'a': 400, 'd': 400, 'b': 400}\n"
     ]
    }
   ],
   "source": [
    "d1 = {'a':100,'b':200,'c':300}\n",
    "d2 = {'a':300,'b':200,'d':400}\n",
    "d = {k: d1.get(k, 0) + d2.get(k, 0) for k in d1.keys() | d2.keys()}\n",
    "print(\"Counter : \",d)"
   ]
  },
  {
   "cell_type": "markdown",
   "metadata": {},
   "source": [
    "# Q10 print all unique values"
   ]
  },
  {
   "cell_type": "code",
   "execution_count": 19,
   "metadata": {},
   "outputs": [
    {
     "name": "stdout",
     "output_type": "stream",
     "text": [
      "Unique Values:  {'S005', 'S001', 'S002', 'S007', 'S009'}\n"
     ]
    }
   ],
   "source": [
    "dictionary = [{\"V\":\"S001\"},{\"V\": \"S002\"},{\"VI\": \"S001\"},{\"VI\": \"S005\"},{\"VII\":\"S005\"},{\"V\":\"S009\"},{\"VIII\":\"S007\"}]\n",
    "value = set( val for dict in dictionary for val in dict.values())\n",
    "print(\"Unique Values: \",value)"
   ]
  },
  {
   "cell_type": "code",
   "execution_count": null,
   "metadata": {},
   "outputs": [],
   "source": []
  }
 ],
 "metadata": {
  "kernelspec": {
   "display_name": "Python 3",
   "language": "python",
   "name": "python3"
  },
  "language_info": {
   "codemirror_mode": {
    "name": "ipython",
    "version": 3
   },
   "file_extension": ".py",
   "mimetype": "text/x-python",
   "name": "python",
   "nbconvert_exporter": "python",
   "pygments_lexer": "ipython3",
   "version": "3.6.11"
  }
 },
 "nbformat": 4,
 "nbformat_minor": 4
}
