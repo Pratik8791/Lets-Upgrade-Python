{
 "cells": [
  {
   "cell_type": "code",
   "execution_count": 10,
   "metadata": {
    "scrolled": true
   },
   "outputs": [
    {
     "name": "stdout",
     "output_type": "stream",
     "text": [
      "working\n"
     ]
    }
   ],
   "source": [
    "import firebase_admin\n",
    "from firebase_admin import credentials\n",
    "\n",
    "cred = credentials.Certificate(\"C:/Users/admin/Downloads/letsupgrade-279e9-firebase-adminsdk-mbulg-cc9f4673dc.json\")\n",
    "firebase_admin.initialize_app(cred)\n",
    "\n",
    "print(\"working\")"
   ]
  },
  {
   "cell_type": "code",
   "execution_count": 11,
   "metadata": {},
   "outputs": [],
   "source": [
    "from firebase_admin import firestore\n"
   ]
  },
  {
   "cell_type": "code",
   "execution_count": 13,
   "metadata": {},
   "outputs": [
    {
     "name": "stdout",
     "output_type": "stream",
     "text": [
      "done\n"
     ]
    }
   ],
   "source": [
    "db = firestore.client()\n",
    "doc_ref = db.collection(\"Movies\").document(\"Bollywood\")\n",
    "\n",
    "data = {\"Name\":[\"kgf\",\"dabangg\",\"coolie\",\"ra-one\",\"war\",\"bahubali\",\"dangal\",\"dhoom\",\"kesari\"],\n",
    "       \"Releasedate\":[2020,2010,2021,2011,2019,2015,2016,2004,2019]}\n",
    "doc_ref.set(data)\n",
    "print(\"done\")"
   ]
  },
  {
   "cell_type": "code",
   "execution_count": 16,
   "metadata": {},
   "outputs": [
    {
     "name": "stdout",
     "output_type": "stream",
     "text": [
      "{'Releasedate': [2020, 2010, 2021, 2011, 2019, 2015, 2016, 2004, 2019], 'Name': ['kgf', 'dabangg', 'coolie', 'ra-one', 'war', 'bahubali', 'dangal', 'dhoom', 'kesari']}\n"
     ]
    }
   ],
   "source": [
    "db = firestore.client()\n",
    "\n",
    "docs = db.collection(\"Movies\").stream()\n",
    "for d in docs:\n",
    "    print(d.to_dict())\n",
    "    database = d.to_dict()"
   ]
  },
  {
   "cell_type": "code",
   "execution_count": 17,
   "metadata": {},
   "outputs": [
    {
     "data": {
      "text/plain": [
       "['kgf',\n",
       " 'dabangg',\n",
       " 'coolie',\n",
       " 'ra-one',\n",
       " 'war',\n",
       " 'bahubali',\n",
       " 'dangal',\n",
       " 'dhoom',\n",
       " 'kesari']"
      ]
     },
     "execution_count": 17,
     "metadata": {},
     "output_type": "execute_result"
    }
   ],
   "source": [
    "database[\"Name\"]"
   ]
  },
  {
   "cell_type": "code",
   "execution_count": 29,
   "metadata": {},
   "outputs": [
    {
     "name": "stdout",
     "output_type": "stream",
     "text": [
      "Write your Name: Pratik\n",
      "Guess the character: \n",
      "You have 10 chance to get the movie name: \n",
      "Best of luck! Pratik\n",
      "_\n",
      "_\n",
      "_\n",
      "_\n",
      "_\n",
      "_\n",
      "Enter your character: d\n",
      "Wrong Answer:(\n",
      "You have 9 more guesses\n",
      "_\n",
      "_\n",
      "_\n",
      "_\n",
      "_\n",
      "_\n",
      "Enter your character: c\n",
      "c\n",
      "_\n",
      "_\n",
      "_\n",
      "_\n",
      "_\n",
      "Enter your character: oolie\n",
      "c\n",
      "o\n",
      "o\n",
      "l\n",
      "i\n",
      "e\n",
      "Congratulation you won!!!\n",
      "Movie Name was: coolie\n"
     ]
    }
   ],
   "source": [
    "import random\n",
    "movie = database[\"Name\"]\n",
    "player = input(\"Enter your Name: \")\n",
    "print(\"Guess the character: \")\n",
    "print(\"You have 10 chance to get the movie name: \")\n",
    "print(\"Best of luck!\",player)\n",
    "count = 12\n",
    "guess= \"\"\n",
    "word = random.choice(movie)\n",
    "while count>0:\n",
    "    fail = 0\n",
    "    for char in word:\n",
    "        if char in guess:\n",
    "            print(char)\n",
    "        else:\n",
    "            print(\"_\")\n",
    "            fail+=1\n",
    "           \n",
    "           \n",
    "    if fail==0:\n",
    "        print(\"Congratulation you won!!!\")\n",
    "        print(\"Movie Name was:\",word)\n",
    "        break\n",
    "    g = input(\"Enter your character: \")\n",
    "    guess = guess+g\n",
    "    if g not in word:\n",
    "        count = count-1\n",
    "        print(\"Wrong Answer:(\")\n",
    "        print(\"You have\",count,\"more guesses\")"
   ]
  },
  {
   "cell_type": "code",
   "execution_count": null,
   "metadata": {},
   "outputs": [],
   "source": []
  }
 ],
 "metadata": {
  "kernelspec": {
   "display_name": "Python 3",
   "language": "python",
   "name": "python3"
  },
  "language_info": {
   "codemirror_mode": {
    "name": "ipython",
    "version": 3
   },
   "file_extension": ".py",
   "mimetype": "text/x-python",
   "name": "python",
   "nbconvert_exporter": "python",
   "pygments_lexer": "ipython3",
   "version": "3.8.5"
  }
 },
 "nbformat": 4,
 "nbformat_minor": 4
}
