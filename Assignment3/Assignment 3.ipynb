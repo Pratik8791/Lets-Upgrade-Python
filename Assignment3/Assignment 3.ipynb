{
 "cells": [
  {
   "cell_type": "markdown",
   "metadata": {},
   "source": [
    "# Que 1 Max of 3 no."
   ]
  },
  {
   "cell_type": "code",
   "execution_count": 1,
   "metadata": {},
   "outputs": [
    {
     "name": "stdout",
     "output_type": "stream",
     "text": [
      "Maximum number is 85\n"
     ]
    }
   ],
   "source": [
    "def maximum(a, b, c): \n",
    "\n",
    "    if (a >= b) and (a >= c): \n",
    "        largest = a \n",
    "\n",
    "    elif (b >= a) and (b >= c): \n",
    "        largest = b \n",
    "    else: \n",
    "        largest = c \n",
    "        \n",
    "    return largest \n",
    "\n",
    "a = 45\n",
    "b = 85\n",
    "c = 15\n",
    "print(\"Maximum number is\",maximum(a, b, c)) "
   ]
  },
  {
   "cell_type": "markdown",
   "metadata": {},
   "source": [
    "# Que 2 Palindrome"
   ]
  },
  {
   "cell_type": "code",
   "execution_count": 4,
   "metadata": {},
   "outputs": [
    {
     "name": "stdout",
     "output_type": "stream",
     "text": [
      "Enter string : madam\n",
      "True\n"
     ]
    }
   ],
   "source": [
    "def palindrome(string):\n",
    "    left_p = 0\n",
    "    right_p = len(string) - 1\n",
    "    \n",
    "    while right_p >= left_p:\n",
    "        if not string[left_p] == string[right_p]:\n",
    "            return False\n",
    "        left_p += 1\n",
    "        right_p -= 1\n",
    "    \n",
    "    return True\n",
    "s = input(\"Enter string : \")\n",
    "print(palindrome(s))"
   ]
  },
  {
   "cell_type": "markdown",
   "metadata": {},
   "source": [
    "# Que 3 Upper and lower cal"
   ]
  },
  {
   "cell_type": "code",
   "execution_count": 5,
   "metadata": {},
   "outputs": [
    {
     "name": "stdout",
     "output_type": "stream",
     "text": [
      "Enter any stringHeLLo\n",
      "String is :  HeLLo\n",
      "No. of Upper case characters :  3\n",
      "No. of Lower case Characters :  2\n",
      "None\n"
     ]
    }
   ],
   "source": [
    "def string_t(s):\n",
    "    d={\"Upper\":0, \"Lower\":0}\n",
    "    for c in s:\n",
    "        if c.isupper():\n",
    "           d[\"Upper\"]+=1\n",
    "        elif c.islower():\n",
    "           d[\"Lower\"]+=1\n",
    "        else:\n",
    "           pass\n",
    "    print (\"String is : \", s)\n",
    "    print (\"No. of Upper case characters : \", d[\"Upper\"])\n",
    "    print (\"No. of Lower case Characters : \", d[\"Lower\"])\n",
    "\n",
    "s1 = input(\"Enter any string\")\n",
    "print(string_t(s1))"
   ]
  },
  {
   "cell_type": "markdown",
   "metadata": {},
   "source": [
    "# Que 4 sum all no."
   ]
  },
  {
   "cell_type": "code",
   "execution_count": 6,
   "metadata": {},
   "outputs": [
    {
     "name": "stdout",
     "output_type": "stream",
     "text": [
      "Sum of total number 15\n"
     ]
    }
   ],
   "source": [
    "def sum(numbers):\n",
    "    total = 0\n",
    "    for x in numbers:\n",
    "        total += x\n",
    "    return total\n",
    "print(\"Sum of total number\",sum((5,4,3,2,1)))"
   ]
  },
  {
   "cell_type": "markdown",
   "metadata": {},
   "source": [
    "# Que 5 Multiply all no."
   ]
  },
  {
   "cell_type": "code",
   "execution_count": 7,
   "metadata": {},
   "outputs": [
    {
     "name": "stdout",
     "output_type": "stream",
     "text": [
      "Multiplication of total no.  1120\n"
     ]
    }
   ],
   "source": [
    "def multiplication(list):\n",
    "    total = 1\n",
    "    for x in n:\n",
    "        total = total * x\n",
    "    return total\n",
    "\n",
    "n = [5,4,8,7]\n",
    "print(\"Multiplication of total no. \",multiplication(n))"
   ]
  },
  {
   "cell_type": "markdown",
   "metadata": {},
   "source": [
    "# Que 6 Unique list"
   ]
  },
  {
   "cell_type": "code",
   "execution_count": 8,
   "metadata": {},
   "outputs": [
    {
     "name": "stdout",
     "output_type": "stream",
     "text": [
      "[5, 7, 4, 8, 9, 1]\n"
     ]
    }
   ],
   "source": [
    "def unique(l):\n",
    "  x = []\n",
    "  for a in l:\n",
    "    if a not in x:\n",
    "      x.append(a)\n",
    "  return x\n",
    "\n",
    "print(unique([5,5,5,7,7,4,8,9,1,7])) "
   ]
  },
  {
   "cell_type": "code",
   "execution_count": null,
   "metadata": {},
   "outputs": [],
   "source": []
  }
 ],
 "metadata": {
  "kernelspec": {
   "display_name": "Python 3",
   "language": "python",
   "name": "python3"
  },
  "language_info": {
   "codemirror_mode": {
    "name": "ipython",
    "version": 3
   },
   "file_extension": ".py",
   "mimetype": "text/x-python",
   "name": "python",
   "nbconvert_exporter": "python",
   "pygments_lexer": "ipython3",
   "version": "3.6.11"
  }
 },
 "nbformat": 4,
 "nbformat_minor": 4
}
