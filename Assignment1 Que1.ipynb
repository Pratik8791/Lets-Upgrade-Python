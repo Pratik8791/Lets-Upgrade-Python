{
 "cells": [
  {
   "cell_type": "markdown",
   "metadata": {},
   "source": [
    "# (2x+5/x^2+5x+6)"
   ]
  },
  {
   "cell_type": "code",
   "execution_count": 7,
   "metadata": {},
   "outputs": [
    {
     "name": "stdout",
     "output_type": "stream",
     "text": [
      "Enter the value of x : 5\n",
      "Result is: 0.26785714285714285\n"
     ]
    }
   ],
   "source": [
    "x=int(input(\"Enter the value of x : \"))\n",
    "y=(2*x+5)/(x**2+5*x+6)\n",
    "print(\"Result is:\",y)"
   ]
  },
  {
   "cell_type": "markdown",
   "metadata": {},
   "source": [
    "# (x^2+5x+6/2x+5)"
   ]
  },
  {
   "cell_type": "code",
   "execution_count": 8,
   "metadata": {},
   "outputs": [
    {
     "name": "stdout",
     "output_type": "stream",
     "text": [
      "Enter the value of x :5\n",
      "Result is :  3.7333333333333334\n"
     ]
    }
   ],
   "source": [
    "x=int(input(\"Enter the value of x :\"))\n",
    "y=(x**2+5*x+6)/(2*x+5)\n",
    "print(\"Result is : \",y)"
   ]
  },
  {
   "cell_type": "markdown",
   "metadata": {},
   "source": [
    "# (2x-3)(x-9)"
   ]
  },
  {
   "cell_type": "code",
   "execution_count": 11,
   "metadata": {},
   "outputs": [
    {
     "name": "stdout",
     "output_type": "stream",
     "text": [
      "Enter the value of x : 5\n",
      "Result is :  -28\n"
     ]
    }
   ],
   "source": [
    "x=int(input(\"Enter the value of x : \"))\n",
    "y=(2*x-3)*(x-9)\n",
    "print(\"Result is : \",y)"
   ]
  },
  {
   "cell_type": "code",
   "execution_count": null,
   "metadata": {},
   "outputs": [],
   "source": []
  }
 ],
 "metadata": {
  "kernelspec": {
   "display_name": "Python 3",
   "language": "python",
   "name": "python3"
  },
  "language_info": {
   "codemirror_mode": {
    "name": "ipython",
    "version": 3
   },
   "file_extension": ".py",
   "mimetype": "text/x-python",
   "name": "python",
   "nbconvert_exporter": "python",
   "pygments_lexer": "ipython3",
   "version": "3.6.11"
  }
 },
 "nbformat": 4,
 "nbformat_minor": 4
}
